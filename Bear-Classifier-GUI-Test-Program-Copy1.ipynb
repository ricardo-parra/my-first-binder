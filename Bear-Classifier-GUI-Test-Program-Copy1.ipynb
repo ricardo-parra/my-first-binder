{
 "cells": [
  {
   "cell_type": "code",
   "execution_count": 1,
   "id": "primary-attraction",
   "metadata": {},
   "outputs": [],
   "source": [
    "## This a GUI application in Jupyter notebook to demo  the bear classifier\n",
    "## Two key pieces of technology for this are :\n",
    "##     (1) ipython widgets: interactive widgets like upload buttons \n",
    "##     (2) viola\n",
    "## To test this program: \n",
    "##  1. Run everything once\n",
    "##  2. Upload an image of a bear from upload button\n",
    "##  3. Click Classify button and confirm the prediction\n",
    "!pip install -Uqq fastbook\n",
    "import fastbook\n",
    "from fastbook import*\n",
    "from ipywidgets import *  # this allows me to setjp VBox"
   ]
  },
  {
   "cell_type": "code",
   "execution_count": 2,
   "id": "sixth-agency",
   "metadata": {},
   "outputs": [],
   "source": [
    "# this is the line of code our application calls once when the application starts up\n",
    "learn_inf = load_learner('/Users/ricardo/Downloads/export.pkl')\n",
    "btn_upload = widgets.FileUpload()\n",
    "out_pl = widgets.Output()\n",
    "lbl_pred = widgets.Label()"
   ]
  },
  {
   "cell_type": "code",
   "execution_count": 3,
   "id": "excited-tattoo",
   "metadata": {},
   "outputs": [],
   "source": [
    "#hide_output\n",
    "def on_click(change):\n",
    "    img = PILImage.create(btn_upload.data[-1])\n",
    "    out_pl.clear_output()\n",
    "    with out_pl: display(img.to_thumb(128,128))\n",
    "    pred,pred_idx,probs = learn_inf.predict(img)\n",
    "    lbl_pred.value = f'Prediction: {pred}; Probability: {probs[pred_idx]:.04f}'"
   ]
  },
  {
   "cell_type": "code",
   "execution_count": 4,
   "id": "qualified-madness",
   "metadata": {},
   "outputs": [],
   "source": [
    "btn_run = widgets.Button(description='Classify')\n",
    "btn_upload.observe(on_click, names=['data'])"
   ]
  },
  {
   "cell_type": "code",
   "execution_count": 5,
   "id": "accompanied-variation",
   "metadata": {},
   "outputs": [
    {
     "data": {
      "application/vnd.jupyter.widget-view+json": {
       "model_id": "b297d8872b8940a6a98816fcd3ab2c8a",
       "version_major": 2,
       "version_minor": 0
      },
      "text/plain": [
       "VBox(children=(Label(value='Select your bear!'), FileUpload(value={}, description='Upload'), Output(), Label(v…"
      ]
     },
     "metadata": {},
     "output_type": "display_data"
    },
    {
     "data": {
      "text/html": [],
      "text/plain": [
       "<IPython.core.display.HTML object>"
      ]
     },
     "metadata": {},
     "output_type": "display_data"
    }
   ],
   "source": [
    "display(VBox([widgets.Label('Select your bear!'), \n",
    "      btn_upload, out_pl, lbl_pred]))"
   ]
  }
 ],
 "metadata": {
  "kernelspec": {
   "display_name": "Python 3",
   "language": "python",
   "name": "python3"
  },
  "language_info": {
   "codemirror_mode": {
    "name": "ipython",
    "version": 3
   },
   "file_extension": ".py",
   "mimetype": "text/x-python",
   "name": "python",
   "nbconvert_exporter": "python",
   "pygments_lexer": "ipython3",
   "version": "3.7.1"
  }
 },
 "nbformat": 4,
 "nbformat_minor": 5
}
